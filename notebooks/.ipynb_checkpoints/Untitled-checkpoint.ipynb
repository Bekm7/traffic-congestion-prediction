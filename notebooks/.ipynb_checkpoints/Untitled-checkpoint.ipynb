{
 "cells": [
  {
   "cell_type": "code",
   "execution_count": 3,
   "id": "c16387af-be01-46bf-b839-f3c6eae7fffa",
   "metadata": {},
   "outputs": [],
   "source": [
    "import pandas as pd \n",
    "df = pd.read_csv(\"D:/traffic-congestion-predictor/data/processed/final_modeling_data.csv\", parse_dates=['pickup_hour_dt'])  \n",
    "\n",
    "#drop speed outliers\n",
    "df = df[df['avg_speed'] <= 60].copy()\n",
    "\n",
    "# Drop rows with missing borough/zone \n",
    "df.dropna(subset=['PUBorough', 'DOBorough', 'PUZone', 'DOZone'], inplace=True)\n",
    "\n",
    "#Reset index after cleaning\n",
    "df.reset_index(drop=True, inplace=True)"
   ]
  },
  {
   "cell_type": "code",
   "execution_count": 4,
   "id": "6c35a403-639d-472e-a046-7c2f24fa56cf",
   "metadata": {},
   "outputs": [
    {
     "name": "stdout",
     "output_type": "stream",
     "text": [
      "<class 'pandas.core.frame.DataFrame'>\n",
      "RangeIndex: 46904 entries, 0 to 46903\n",
      "Data columns (total 17 columns):\n",
      " #   Column          Non-Null Count  Dtype         \n",
      "---  ------          --------------  -----         \n",
      " 0   avg_speed       46904 non-null  float64       \n",
      " 1   pickup_hour_dt  46904 non-null  datetime64[ns]\n",
      " 2   pickup_hour     46904 non-null  int64         \n",
      " 3   pickup_day      46904 non-null  object        \n",
      " 4   is_midweek      46904 non-null  bool          \n",
      " 5   is_rush_hour    46904 non-null  bool          \n",
      " 6   PULocationID    46904 non-null  int64         \n",
      " 7   DOLocationID    46904 non-null  int64         \n",
      " 8   PUBorough       46904 non-null  object        \n",
      " 9   DOBorough       46904 non-null  object        \n",
      " 10  PUZone          46904 non-null  object        \n",
      " 11  DOZone          46904 non-null  object        \n",
      " 12  temp            46904 non-null  float64       \n",
      " 13  prcp            46904 non-null  float64       \n",
      " 14  wspd            46904 non-null  float64       \n",
      " 15  coco            46904 non-null  float64       \n",
      " 16  snowed          46904 non-null  int64         \n",
      "dtypes: bool(2), datetime64[ns](1), float64(5), int64(4), object(5)\n",
      "memory usage: 5.5+ MB\n"
     ]
    }
   ],
   "source": [
    "df.info()"
   ]
  },
  {
   "cell_type": "code",
   "execution_count": 5,
   "id": "6efbecde-ad22-458d-9867-10c923d965e6",
   "metadata": {},
   "outputs": [],
   "source": [
    "df.to_csv(\"D:/traffic-congestion-predictor/data/processed/Reference_data.csv\", index=False)"
   ]
  },
  {
   "cell_type": "code",
   "execution_count": null,
   "id": "2a8ccd28-c0c3-46c6-82ba-b6856a95ff9f",
   "metadata": {},
   "outputs": [],
   "source": []
  }
 ],
 "metadata": {
  "kernelspec": {
   "display_name": "Python 3 (ipykernel)",
   "language": "python",
   "name": "python3"
  },
  "language_info": {
   "codemirror_mode": {
    "name": "ipython",
    "version": 3
   },
   "file_extension": ".py",
   "mimetype": "text/x-python",
   "name": "python",
   "nbconvert_exporter": "python",
   "pygments_lexer": "ipython3",
   "version": "3.9.2"
  }
 },
 "nbformat": 4,
 "nbformat_minor": 5
}
