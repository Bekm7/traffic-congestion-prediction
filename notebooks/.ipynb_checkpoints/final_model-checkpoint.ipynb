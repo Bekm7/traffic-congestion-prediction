{
 "cells": [
  {
   "cell_type": "code",
   "execution_count": 2,
   "id": "d24ad99b-4877-434e-ad8a-c500bdeb39d4",
   "metadata": {},
   "outputs": [
    {
     "name": "stdout",
     "output_type": "stream",
     "text": [
      "<class 'pandas.core.frame.DataFrame'>\n",
      "RangeIndex: 46904 entries, 0 to 46903\n",
      "Data columns (total 27 columns):\n",
      " #   Column                Non-Null Count  Dtype         \n",
      "---  ------                --------------  -----         \n",
      " 0   avg_speed             46904 non-null  float64       \n",
      " 1   pickup_hour_dt        46904 non-null  datetime64[ns]\n",
      " 2   pickup_hour           46904 non-null  int64         \n",
      " 3   is_midweek            46904 non-null  bool          \n",
      " 4   is_rush_hour          46904 non-null  bool          \n",
      " 5   PULocationID          46904 non-null  int64         \n",
      " 6   DOLocationID          46904 non-null  int64         \n",
      " 7   PUBorough             46904 non-null  object        \n",
      " 8   DOBorough             46904 non-null  object        \n",
      " 9   PUZone                46904 non-null  object        \n",
      " 10  DOZone                46904 non-null  object        \n",
      " 11  temp                  46904 non-null  float64       \n",
      " 12  prcp                  46904 non-null  float64       \n",
      " 13  wspd                  46904 non-null  float64       \n",
      " 14  coco                  46904 non-null  float64       \n",
      " 15  snowed                46904 non-null  int64         \n",
      " 16  PUBorough_freq        46904 non-null  float64       \n",
      " 17  DOBorough_freq        46904 non-null  float64       \n",
      " 18  PUZone_freq           46904 non-null  float64       \n",
      " 19  DOZone_freq           46904 non-null  float64       \n",
      " 20  pickup_day_Friday     46904 non-null  bool          \n",
      " 21  pickup_day_Monday     46904 non-null  bool          \n",
      " 22  pickup_day_Saturday   46904 non-null  bool          \n",
      " 23  pickup_day_Sunday     46904 non-null  bool          \n",
      " 24  pickup_day_Thursday   46904 non-null  bool          \n",
      " 25  pickup_day_Tuesday    46904 non-null  bool          \n",
      " 26  pickup_day_Wednesday  46904 non-null  bool          \n",
      "dtypes: bool(9), datetime64[ns](1), float64(9), int64(4), object(4)\n",
      "memory usage: 6.8+ MB\n"
     ]
    }
   ],
   "source": [
    "import pandas as pd  \n",
    "import numpy as np\n",
    "import matplotlib.pyplot as plt\n",
    "import seaborn as sns\n",
    "from sklearn.model_selection import train_test_split, cross_val_score\n",
    "from sklearn.metrics import mean_squared_error, r2_score\n",
    "from sklearn.preprocessing import StandardScaler\n",
    "from xgboost import XGBRegressor\n",
    "# FINAL dataset  \n",
    "df = pd.read_csv(\"D:/traffic-congestion-predictor/data/processed/xbdata.csv\", parse_dates=['pickup_hour_dt'])  \n",
    "\n",
    "   \n",
    "#df.describe()\n",
    "df.info()"
   ]
  },
  {
   "cell_type": "code",
   "execution_count": 3,
   "id": "bc0c72dd-85a8-49c4-97b0-4394731867f5",
   "metadata": {},
   "outputs": [],
   "source": [
    "features = [\n",
    "    'pickup_hour', 'pickup_day_Sunday', 'pickup_day_Monday','pickup_day_Tuesday','pickup_day_Wednesday','pickup_day_Thursday',\n",
    "    'pickup_day_Friday','pickup_day_Saturday',\n",
    "    'is_rush_hour', 'is_midweek',\n",
    "    'PULocationID', 'DOLocationID',\n",
    "    'PUZone_freq', 'DOZone_freq',\n",
    "    'PUBorough_freq', 'DOBorough_freq',\n",
    "    'temp', 'prcp', 'wspd', 'snowed', 'coco'\n",
    "]\n",
    "target = 'avg_speed'\n",
    "\n",
    "X = df[features]\n",
    "y = df[target]\n",
    "\n",
    "# Train-Test Split\n",
    "X_train, X_test, y_train, y_test = train_test_split(X, y, test_size=0.2, random_state=42)\n",
    "\n",
    "# ----------------------------\n",
    "# Standardization (optional but helps)\n",
    "# ----------------------------\n",
    "scaler = StandardScaler()\n",
    "X_train_scaled = scaler.fit_transform(X_train)\n",
    "X_test_scaled = scaler.transform(X_test)"
   ]
  },
  {
   "cell_type": "code",
   "execution_count": 6,
   "id": "9e81ee2c-8a39-4c09-a739-16aabb171e24",
   "metadata": {},
   "outputs": [
    {
     "name": "stdout",
     "output_type": "stream",
     "text": [
      "XGBoost RMSE: 3.567\n",
      "XGBoost R²: 0.625\n"
     ]
    }
   ],
   "source": [
    "#\n",
    "from xgboost import XGBRegressor\n",
    "\n",
    "xgb = XGBRegressor(n_estimators=400, learning_rate=0.05, max_depth=8, random_state=42)\n",
    "xgb.fit(X_train, y_train)\n",
    "y_pred_xgb = xgb.predict(X_test)\n",
    "\n",
    "xgb_mse = mean_squared_error(y_test, y_pred_xgb)\n",
    "xgb_rmse=np.sqrt(xgb_mse)\n",
    "xgb_r2 = r2_score(y_test, y_pred_xgb)\n",
    "\n",
    "print(f\"XGBoost RMSE: {xgb_rmse:.3f}\")\n",
    "print(f\"XGBoost R²: {xgb_r2:.3f}\")"
   ]
  },
  {
   "cell_type": "code",
   "execution_count": null,
   "id": "cb834b1f-6fda-4470-822f-a3deaaff2b85",
   "metadata": {},
   "outputs": [],
   "source": []
  }
 ],
 "metadata": {
  "kernelspec": {
   "display_name": "Python 3 (ipykernel)",
   "language": "python",
   "name": "python3"
  },
  "language_info": {
   "codemirror_mode": {
    "name": "ipython",
    "version": 3
   },
   "file_extension": ".py",
   "mimetype": "text/x-python",
   "name": "python",
   "nbconvert_exporter": "python",
   "pygments_lexer": "ipython3",
   "version": "3.9.2"
  }
 },
 "nbformat": 4,
 "nbformat_minor": 5
}
