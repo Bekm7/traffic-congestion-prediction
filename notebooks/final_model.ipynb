{
 "cells": [
  {
   "cell_type": "code",
   "execution_count": null,
   "id": "d24ad99b-4877-434e-ad8a-c500bdeb39d4",
   "metadata": {},
   "outputs": [],
   "source": [
    "import pandas as pd  \n",
    "import numpy as np\n",
    "import matplotlib.pyplot as plt\n",
    "import seaborn as sns\n",
    "from sklearn.model_selection import train_test_split, cross_val_score\n",
    "from sklearn.metrics import mean_squared_error, r2_score\n",
    "from sklearn.preprocessing import StandardScaler\n",
    "from xgboost import XGBRegressor\n",
    "# FINAL dataset  \n",
    "df = pd.read_csv(\"D:/traffic-congestion-predictor/data/processed/xbdata.csv\", parse_dates=['pickup_hour_dt'])  \n",
    "\n",
    "   \n",
    "#df.describe()\n",
    "#df.info()"
   ]
  },
  {
   "cell_type": "code",
   "execution_count": null,
   "id": "bc0c72dd-85a8-49c4-97b0-4394731867f5",
   "metadata": {},
   "outputs": [],
   "source": [
    "features = [\n",
    "    'pickup_hour', 'pickup_day_Sunday', 'pickup_day_Monday','pickup_day_Tuesday','pickup_day_Wednesday','pickup_day_Thursday',\n",
    "    'pickup_day_Friday','pickup_day_Saturday',\n",
    "    'is_rush_hour', 'is_midweek',\n",
    "    'PULocationID', 'DOLocationID',\n",
    "    'PUZone_freq', 'DOZone_freq',\n",
    "    'PUBorough_freq', 'DOBorough_freq',\n",
    "    'temp', 'prcp', 'wspd', 'snowed', 'coco'\n",
    "]\n",
    "target = 'avg_speed'\n",
    "\n",
    "X = df[features]\n",
    "y = df[target]\n",
    "\n",
    "# Train-Test Split\n",
    "X_train, X_test, y_train, y_test = train_test_split(X, y, test_size=0.2, random_state=42)\n",
    "\n",
    "# ----------------------------\n",
    "# Standardization (optional but helps)\n",
    "# ----------------------------\n",
    "scaler = StandardScaler()\n",
    "X_train_scaled = scaler.fit_transform(X_train)\n",
    "X_test_scaled = scaler.transform(X_test)"
   ]
  },
  {
   "cell_type": "code",
   "execution_count": null,
   "id": "9e81ee2c-8a39-4c09-a739-16aabb171e24",
   "metadata": {},
   "outputs": [],
   "source": [
    "#\n",
    "from xgboost import XGBRegressor\n",
    "\n",
    "xgb = XGBRegressor(n_estimators=400, learning_rate=0.05, max_depth=8, random_state=42)\n",
    "xgb.fit(X_train, y_train)\n",
    "y_pred_xgb = xgb.predict(X_test)\n",
    "\n",
    "xgb_mse = mean_squared_error(y_test, y_pred_xgb)\n",
    "xgb_rmse=np.sqrt(xgb_mse)\n",
    "xgb_r2 = r2_score(y_test, y_pred_xgb)\n",
    "\n",
    "print(f\"XGBoost RMSE: {xgb_rmse:.3f}\")\n",
    "print(f\"XGBoost R²: {xgb_r2:.3f}\")"
   ]
  },
  {
   "cell_type": "code",
   "execution_count": null,
   "id": "cb834b1f-6fda-4470-822f-a3deaaff2b85",
   "metadata": {},
   "outputs": [],
   "source": [
    "import matplotlib.pyplot as plt\n",
    "\n",
    "importances = xgb.feature_importances_\n",
    "feature_names = X.columns\n",
    "indices = np.argsort(importances)[::-1]\n",
    "\n",
    "plt.figure(figsize=(10, 6))\n",
    "plt.title(\"XGBoost Feature Importances\")\n",
    "plt.bar(range(X.shape[1]), importances[indices])\n",
    "plt.xticks(range(X.shape[1]), [feature_names[i] for i in indices], rotation=90)\n",
    "plt.tight_layout()\n",
    "plt.savefig(\"D:/traffic-congestion-predictor/outputs/plots/xgb_feature_importance.png\")\n",
    "plt.show()\n",
    "\n"
   ]
  },
  {
   "cell_type": "code",
   "execution_count": null,
   "id": "45733296-f39b-4733-add7-84af6fbedf0e",
   "metadata": {},
   "outputs": [],
   "source": [
    "!pip install joblib"
   ]
  },
  {
   "cell_type": "code",
   "execution_count": null,
   "id": "b122691d-f2f5-427a-aea7-fd55d8ee8a7d",
   "metadata": {},
   "outputs": [],
   "source": [
    "import joblib\n",
    "# Save the trained model\n",
    "joblib.dump(xgb, 'xgboost_congestion_model')"
   ]
  },
  {
   "cell_type": "code",
   "execution_count": null,
   "id": "6a00063b-a00c-4bb1-a69a-e3987fed861d",
   "metadata": {},
   "outputs": [],
   "source": []
  }
 ],
 "metadata": {
  "kernelspec": {
   "display_name": "Python 3 (ipykernel)",
   "language": "python",
   "name": "python3"
  },
  "language_info": {
   "codemirror_mode": {
    "name": "ipython",
    "version": 3
   },
   "file_extension": ".py",
   "mimetype": "text/x-python",
   "name": "python",
   "nbconvert_exporter": "python",
   "pygments_lexer": "ipython3",
   "version": "3.9.2"
  }
 },
 "nbformat": 4,
 "nbformat_minor": 5
}
