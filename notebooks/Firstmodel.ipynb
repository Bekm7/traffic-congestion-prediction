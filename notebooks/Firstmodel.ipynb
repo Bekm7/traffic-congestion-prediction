{
 "cells": [
  {
   "cell_type": "code",
   "execution_count": null,
   "id": "a53237d3-10ce-4194-bb6e-fce8c056f6bc",
   "metadata": {},
   "outputs": [],
   "source": [
    "import pandas as pd  \n",
    "import numpy as np\n",
    "import matplotlib.pyplot as plt\n",
    "import seaborn as sns\n",
    "# Load your FINAL dataset  \n",
    "df = pd.read_csv(\"D:/traffic-congestion-predictor/data/processed/final_modeling_data.csv\", parse_dates=['pickup_hour_dt'])  \n",
    "\n",
    "# Verify columns (should match your selected features)    \n",
    "#df.describe()\n",
    "#df.info()"
   ]
  },
  {
   "cell_type": "code",
   "execution_count": null,
   "id": "7eb10189-bc79-4fc5-b036-f7332ee1eb86",
   "metadata": {},
   "outputs": [],
   "source": [
    "# congestion tiers \n",
    "def nyc_congestion_tier(speed):\n",
    "    if speed > 13:   return 'low'\n",
    "    elif speed > 9: return 'medium'\n",
    "    else:           return 'high'\n",
    "\n",
    "df['congestion'] = df['avg_speed'].apply(nyc_congestion_tier)\n",
    "\n",
    "# Verify distribution\n",
    "print(df['congestion'].value_counts(normalize=True)) "
   ]
  },
  {
   "cell_type": "code",
   "execution_count": null,
   "id": "a2ed9c64-a378-499d-9ad5-95312061c8cc",
   "metadata": {},
   "outputs": [],
   "source": [
    "#Drop object-type columns\n",
    "df_model = df.drop(columns=['PUBorough','DOBorough','PUZone','DOZone','pickup_day','pickup_hour_dt'])\n",
    "\n",
    "# 2. Cyclical time encoding\n",
    "df_model['hour_sin'] = np.sin(2 * np.pi * df['pickup_hour']/24)\n",
    "df_model['hour_cos'] = np.cos(2 * np.pi * df['pickup_hour']/24)\n",
    "df_model = df_model.drop(columns=['pickup_hour'])\n",
    "\n",
    "# 3. Convert LocationIDs to category dtype\n",
    "df_model['PULocationID'] = df_model['PULocationID'].astype('category')\n",
    "df_model['DOLocationID'] = df_model['DOLocationID'].astype('category')"
   ]
  },
  {
   "cell_type": "code",
   "execution_count": null,
   "id": "aea0d775-cde9-488c-b1b2-ffd815634441",
   "metadata": {},
   "outputs": [],
   "source": [
    "# 1. Temperature check\n",
    "print(\"Temperature stats (Celsius expected):\")\n",
    "print(df['temp'].describe())\n",
    "\n",
    "# 2. Precipitation check\n",
    "print(\"\\nPrecipitation issues:\", df[df['prcp'] < 0].shape[0])\n",
    "print(\"Max precipitation:\", df['prcp'].max())\n",
    "\n",
    "# 3. Wind speed check\n",
    "print(\"\\nWind speed issues:\", df[df['wspd'] < 0].shape[0])\n",
    "print(\"Wind speed percentiles:\")\n",
    "print(df['wspd'].quantile([0.25, 0.5, 0.75, 0.99]))\n",
    "\n",
    "# 4. Weather condition (coco) check\n",
    "print(\"\\nUnique weather codes:\", sorted(df['coco'].unique()))\n",
    "# Expected WMO codes: https://open-meteo.com/en/docs\n",
    "\n",
    "# 5. Snow flag check\n",
    "print(\"\\nSnow flag counts:\")\n",
    "print(df['snowed'].value_counts(dropna=False))"
   ]
  },
  {
   "cell_type": "code",
   "execution_count": null,
   "id": "4339016b-4a9c-431e-88c3-0fd1cbad9afe",
   "metadata": {},
   "outputs": [],
   "source": [
    "# For coco (weather condition), use severity scores or one-hot encoding:\n",
    "severity_map = {0:0, 1:0, 2:0, 3:0, 5:2, 7:1, 8:1, 9:1, 12:3, 14:3, 15:2, 16:3, 17:3}\n",
    "df_model['weather_severity'] = df['coco'].map(severity_map)\n",
    "\n",
    "# Or one-hot encode:\n",
    "#df_model = pd.get_dummies(df_model, columns=['coco'], prefix='weather')"
   ]
  },
  {
   "cell_type": "code",
   "execution_count": null,
   "id": "7ec4eefe-030e-4e11-b400-3b7b082fb58e",
   "metadata": {},
   "outputs": [],
   "source": [
    "from sklearn.model_selection import train_test_split\n",
    "\n",
    "# Features (X) and targets (y)\n",
    "X = df_model.drop(columns=['avg_speed', 'congestion'])\n",
    "y_speed = df_model['avg_speed']\n",
    "y_congestion = df_model['congestion']\n",
    "\n",
    "# Split data (80% train, 20% test)\n",
    "X_train, X_test, y_speed_train, y_speed_test, y_congestion_train, y_congestion_test = train_test_split(\n",
    "    X, y_speed, y_congestion, test_size=0.2, random_state=42\n",
    ")"
   ]
  },
  {
   "cell_type": "code",
   "execution_count": null,
   "id": "539a4a5e-aee7-4d3e-9595-f546ab8adf66",
   "metadata": {},
   "outputs": [],
   "source": [
    "from sklearn.ensemble import RandomForestClassifier\n",
    "from sklearn.metrics import classification_report\n",
    "\n",
    "# Train\n",
    "clf = RandomForestClassifier(random_state=42)\n",
    "clf.fit(X_train, y_congestion_train)\n",
    "\n",
    "# Evaluate\n",
    "y_pred = clf.predict(X_test)\n",
    "print(classification_report(y_congestion_test, y_pred))"
   ]
  },
  {
   "cell_type": "code",
   "execution_count": null,
   "id": "a612827c-aacb-427d-be7d-ad4becf728f1",
   "metadata": {},
   "outputs": [],
   "source": [
    "from xgboost import XGBRegressor\n",
    "from sklearn.metrics import mean_absolute_error, r2_score\n",
    "\n",
    "# Train\n",
    "reg = XGBRegressor(random_state=42,enable_categorical=True)\n",
    "reg.fit(X_train, y_speed_train)\n",
    "\n",
    "# Evaluate\n",
    "y_pred_speed = reg.predict(X_test)\n",
    "print(\"MAE:\", mean_absolute_error(y_speed_test, y_pred_speed))\n",
    "print(\"R²:\", r2_score(y_speed_test, y_pred_speed))"
   ]
  },
  {
   "cell_type": "code",
   "execution_count": null,
   "id": "8eb6449c-1c80-489a-92e4-7000f200bba6",
   "metadata": {},
   "outputs": [],
   "source": [
    "import matplotlib.pyplot as plt\n",
    "\n",
    "# For Random Forest (Congestion)\n",
    "plt.barh(X.columns, clf.feature_importances_)\n",
    "plt.title(\"Feature Importance (Congestion Model)\")\n",
    "plt.show()\n",
    "\n",
    "# For XGBoost (Speed)\n",
    "plt.barh(X.columns, reg.feature_importances_)\n",
    "plt.title(\"Feature Importance (Speed Model)\")\n",
    "plt.show()"
   ]
  }
 ],
 "metadata": {
  "kernelspec": {
   "display_name": "Python 3 (ipykernel)",
   "language": "python",
   "name": "python3"
  },
  "language_info": {
   "codemirror_mode": {
    "name": "ipython",
    "version": 3
   },
   "file_extension": ".py",
   "mimetype": "text/x-python",
   "name": "python",
   "nbconvert_exporter": "python",
   "pygments_lexer": "ipython3",
   "version": "3.9.2"
  }
 },
 "nbformat": 4,
 "nbformat_minor": 5
}
