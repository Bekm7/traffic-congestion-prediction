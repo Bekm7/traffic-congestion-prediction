{
 "cells": [
  {
   "cell_type": "code",
   "execution_count": null,
   "id": "c16387af-be01-46bf-b839-f3c6eae7fffa",
   "metadata": {},
   "outputs": [],
   "source": [
    "import pandas as pd \n",
    "df = pd.read_csv(\"D:/traffic-congestion-predictor/data/processed/final_modeling_data.csv\", parse_dates=['pickup_hour_dt'])  \n",
    "\n",
    "#drop speed outliers\n",
    "df = df[df['avg_speed'] <= 60].copy()\n",
    "\n",
    "# Drop rows with missing borough/zone \n",
    "df.dropna(subset=['PUBorough', 'DOBorough', 'PUZone', 'DOZone'], inplace=True)\n",
    "\n",
    "#Reset index after cleaning\n",
    "df.reset_index(drop=True, inplace=True)"
   ]
  },
  {
   "cell_type": "code",
   "execution_count": null,
   "id": "6c35a403-639d-472e-a046-7c2f24fa56cf",
   "metadata": {},
   "outputs": [],
   "source": [
    "df.info()"
   ]
  },
  {
   "cell_type": "code",
   "execution_count": null,
   "id": "6efbecde-ad22-458d-9867-10c923d965e6",
   "metadata": {},
   "outputs": [],
   "source": [
    "df.to_csv(\"D:/traffic-congestion-predictor/data/processed/Reference_data.csv\", index=False)"
   ]
  },
  {
   "cell_type": "code",
   "execution_count": null,
   "id": "2a8ccd28-c0c3-46c6-82ba-b6856a95ff9f",
   "metadata": {},
   "outputs": [],
   "source": []
  }
 ],
 "metadata": {
  "kernelspec": {
   "display_name": "Python 3 (ipykernel)",
   "language": "python",
   "name": "python3"
  },
  "language_info": {
   "codemirror_mode": {
    "name": "ipython",
    "version": 3
   },
   "file_extension": ".py",
   "mimetype": "text/x-python",
   "name": "python",
   "nbconvert_exporter": "python",
   "pygments_lexer": "ipython3",
   "version": "3.9.2"
  }
 },
 "nbformat": 4,
 "nbformat_minor": 5
}
